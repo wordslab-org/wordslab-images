{
 "cells": [
  {
   "cell_type": "code",
   "execution_count": null,
   "id": "1e8e1665-04a7-4dc3-9003-5bb1d2a1ba01",
   "metadata": {},
   "outputs": [],
   "source": []
  }
 ],
 "metadata": {
  "kernelspec": {
   "display_name": "wordslab-images",
   "language": "python",
   "name": "wordslab-images"
  },
  "language_info": {
   "codemirror_mode": {
    "name": "ipython",
    "version": 3
   },
   "file_extension": ".py",
   "mimetype": "text/x-python",
   "name": "python",
   "nbconvert_exporter": "python",
   "pygments_lexer": "ipython3",
   "version": "3.12.7"
  }
 },
 "nbformat": 4,
 "nbformat_minor": 5
}
